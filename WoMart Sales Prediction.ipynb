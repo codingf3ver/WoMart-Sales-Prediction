{
 "cells": [
  {
   "cell_type": "code",
   "execution_count": 1,
   "metadata": {},
   "outputs": [],
   "source": [
    "import pandas as pd\n",
    "import numpy as np\n",
    "from sklearn.linear_model import LinearRegression ,Ridge , Lasso\n",
    "import seaborn as sns\n",
    "import matplotlib.pyplot as plt\n",
    "from sklearn.model_selection import cross_val_score ,KFold\n",
    "from sklearn.ensemble import RandomForestRegressor\n",
    "from sklearn.preprocessing import StandardScaler ,LabelEncoder\n",
    "from catboost import CatBoostRegressor\n",
    "import math\n",
    "from sklearn.metrics import mean_squared_log_error ,r2_score\n",
    "\n",
    "sns.set_theme(style=\"ticks\", color_codes=True)\n",
    "%matplotlib inline"
   ]
  },
  {
   "cell_type": "code",
   "execution_count": 2,
   "metadata": {},
   "outputs": [],
   "source": [
    "#Trainig file \n",
    "df_train = pd.read_csv('TRAIN (1).csv')\n",
    "\n",
    "# Testing file\n",
    "df_test = pd.read_csv('TEST_FINAL.csv')"
   ]
  },
  {
   "cell_type": "code",
   "execution_count": 3,
   "metadata": {},
   "outputs": [
    {
     "data": {
      "text/html": [
       "<div>\n",
       "<style scoped>\n",
       "    .dataframe tbody tr th:only-of-type {\n",
       "        vertical-align: middle;\n",
       "    }\n",
       "\n",
       "    .dataframe tbody tr th {\n",
       "        vertical-align: top;\n",
       "    }\n",
       "\n",
       "    .dataframe thead th {\n",
       "        text-align: right;\n",
       "    }\n",
       "</style>\n",
       "<table border=\"1\" class=\"dataframe\">\n",
       "  <thead>\n",
       "    <tr style=\"text-align: right;\">\n",
       "      <th></th>\n",
       "      <th>ID</th>\n",
       "      <th>Store_id</th>\n",
       "      <th>Store_Type</th>\n",
       "      <th>Location_Type</th>\n",
       "      <th>Region_Code</th>\n",
       "      <th>Date</th>\n",
       "      <th>Holiday</th>\n",
       "      <th>Discount</th>\n",
       "      <th>#Order</th>\n",
       "      <th>Sales</th>\n",
       "    </tr>\n",
       "  </thead>\n",
       "  <tbody>\n",
       "    <tr>\n",
       "      <th>0</th>\n",
       "      <td>T1000001</td>\n",
       "      <td>1</td>\n",
       "      <td>S1</td>\n",
       "      <td>L3</td>\n",
       "      <td>R1</td>\n",
       "      <td>2018-01-01</td>\n",
       "      <td>1</td>\n",
       "      <td>Yes</td>\n",
       "      <td>9</td>\n",
       "      <td>7011.84</td>\n",
       "    </tr>\n",
       "    <tr>\n",
       "      <th>1</th>\n",
       "      <td>T1000002</td>\n",
       "      <td>253</td>\n",
       "      <td>S4</td>\n",
       "      <td>L2</td>\n",
       "      <td>R1</td>\n",
       "      <td>2018-01-01</td>\n",
       "      <td>1</td>\n",
       "      <td>Yes</td>\n",
       "      <td>60</td>\n",
       "      <td>51789.12</td>\n",
       "    </tr>\n",
       "    <tr>\n",
       "      <th>2</th>\n",
       "      <td>T1000003</td>\n",
       "      <td>252</td>\n",
       "      <td>S3</td>\n",
       "      <td>L2</td>\n",
       "      <td>R1</td>\n",
       "      <td>2018-01-01</td>\n",
       "      <td>1</td>\n",
       "      <td>Yes</td>\n",
       "      <td>42</td>\n",
       "      <td>36868.20</td>\n",
       "    </tr>\n",
       "  </tbody>\n",
       "</table>\n",
       "</div>"
      ],
      "text/plain": [
       "         ID  Store_id Store_Type Location_Type Region_Code        Date  \\\n",
       "0  T1000001         1         S1            L3          R1  2018-01-01   \n",
       "1  T1000002       253         S4            L2          R1  2018-01-01   \n",
       "2  T1000003       252         S3            L2          R1  2018-01-01   \n",
       "\n",
       "   Holiday Discount  #Order     Sales  \n",
       "0        1      Yes       9   7011.84  \n",
       "1        1      Yes      60  51789.12  \n",
       "2        1      Yes      42  36868.20  "
      ]
     },
     "execution_count": 3,
     "metadata": {},
     "output_type": "execute_result"
    }
   ],
   "source": [
    "df_train.head(3)"
   ]
  },
  {
   "cell_type": "code",
   "execution_count": 4,
   "metadata": {
    "scrolled": false
   },
   "outputs": [
    {
     "data": {
      "text/html": [
       "<div>\n",
       "<style scoped>\n",
       "    .dataframe tbody tr th:only-of-type {\n",
       "        vertical-align: middle;\n",
       "    }\n",
       "\n",
       "    .dataframe tbody tr th {\n",
       "        vertical-align: top;\n",
       "    }\n",
       "\n",
       "    .dataframe thead th {\n",
       "        text-align: right;\n",
       "    }\n",
       "</style>\n",
       "<table border=\"1\" class=\"dataframe\">\n",
       "  <thead>\n",
       "    <tr style=\"text-align: right;\">\n",
       "      <th></th>\n",
       "      <th>ID</th>\n",
       "      <th>Store_id</th>\n",
       "      <th>Store_Type</th>\n",
       "      <th>Location_Type</th>\n",
       "      <th>Region_Code</th>\n",
       "      <th>Date</th>\n",
       "      <th>Holiday</th>\n",
       "      <th>Discount</th>\n",
       "    </tr>\n",
       "  </thead>\n",
       "  <tbody>\n",
       "    <tr>\n",
       "      <th>0</th>\n",
       "      <td>T1188341</td>\n",
       "      <td>171</td>\n",
       "      <td>S4</td>\n",
       "      <td>L2</td>\n",
       "      <td>R3</td>\n",
       "      <td>2019-06-01</td>\n",
       "      <td>0</td>\n",
       "      <td>No</td>\n",
       "    </tr>\n",
       "    <tr>\n",
       "      <th>1</th>\n",
       "      <td>T1188342</td>\n",
       "      <td>172</td>\n",
       "      <td>S1</td>\n",
       "      <td>L1</td>\n",
       "      <td>R1</td>\n",
       "      <td>2019-06-01</td>\n",
       "      <td>0</td>\n",
       "      <td>No</td>\n",
       "    </tr>\n",
       "    <tr>\n",
       "      <th>2</th>\n",
       "      <td>T1188343</td>\n",
       "      <td>173</td>\n",
       "      <td>S4</td>\n",
       "      <td>L2</td>\n",
       "      <td>R1</td>\n",
       "      <td>2019-06-01</td>\n",
       "      <td>0</td>\n",
       "      <td>No</td>\n",
       "    </tr>\n",
       "    <tr>\n",
       "      <th>3</th>\n",
       "      <td>T1188344</td>\n",
       "      <td>174</td>\n",
       "      <td>S1</td>\n",
       "      <td>L1</td>\n",
       "      <td>R4</td>\n",
       "      <td>2019-06-01</td>\n",
       "      <td>0</td>\n",
       "      <td>No</td>\n",
       "    </tr>\n",
       "  </tbody>\n",
       "</table>\n",
       "</div>"
      ],
      "text/plain": [
       "         ID  Store_id Store_Type Location_Type Region_Code        Date  \\\n",
       "0  T1188341       171         S4            L2          R3  2019-06-01   \n",
       "1  T1188342       172         S1            L1          R1  2019-06-01   \n",
       "2  T1188343       173         S4            L2          R1  2019-06-01   \n",
       "3  T1188344       174         S1            L1          R4  2019-06-01   \n",
       "\n",
       "   Holiday Discount  \n",
       "0        0       No  \n",
       "1        0       No  \n",
       "2        0       No  \n",
       "3        0       No  "
      ]
     },
     "execution_count": 4,
     "metadata": {},
     "output_type": "execute_result"
    }
   ],
   "source": [
    "df_test.head(4)"
   ]
  },
  {
   "cell_type": "code",
   "execution_count": 5,
   "metadata": {},
   "outputs": [],
   "source": [
    "class DataInfo:\n",
    "    def __init__(self,df):\n",
    "        self.df = df\n",
    "\n",
    "    def info(self): \n",
    "        \n",
    "        # Counting no of rows \n",
    "        print(f'\\nTotal Rows : {self.df.shape[0]} \\n' + '--'*10 )\n",
    "      \n",
    "        # Counting no of columns\n",
    "        print(f'\\nTotal Columns : {self.df.shape[1]} \\n' + '--'*10)\n",
    "        \n",
    "        # Extracting column names\n",
    "        column_name =  self.df.columns \n",
    "        print(f'\\nColumn Names\\n' + '--'*10 +  f'\\n{column_name} \\n \\n')\n",
    "        \n",
    "        # Data type info\n",
    "        print(f'Data Summary\\n' + '--'*10)\n",
    "        data_summary = self.df.info() \n",
    "        \n",
    "        # Total null values by each categories\n",
    "        null_values = self.df.isnull().sum() \n",
    "        print(f'\\nNull values\\n' + '--'*10 + f'\\n{null_values} \\n \\n')\n",
    "\n",
    "        # Descriptive statistics\n",
    "        describe =  self.df.describe() \n",
    "        print(f'\\nDescriptive Statistics\\n' + '--'*10 +  f'\\n{describe} \\n \\n')\n",
    "        \n",
    "        # Unique categories description\n",
    "    def uniqueCategory(self):      \n",
    "        \n",
    "        # Number of Unique values in each column\n",
    "        uniques_values = self.df.apply(lambda x : len(x.unique())) \n",
    "        print(f'Unique Values\\n' + '--'*10 +  f'\\n{uniques_values} \\n \\n')\n",
    "        \n",
    "        for i in self.df.columns: \n",
    "            if self.df[i].dtype == 'O':          # Columns having datatype object or categories in each column\n",
    "                unique_category = set(self.df.loc[: , i])      # Unique categories in each columns\n",
    "                \n",
    "                if len(unique_category)>=100:\n",
    "                    print(f'{i} -- {list(unique_category)[:50]}\\n')\n",
    "                    continue  #Taking only top 50 as more than 100 will messed up\n",
    "                else:\n",
    "                    print(f'\\n{i} -- {unique_category}\\n')\n"
   ]
  },
  {
   "cell_type": "code",
   "execution_count": 6,
   "metadata": {},
   "outputs": [
    {
     "name": "stdout",
     "output_type": "stream",
     "text": [
      "\n",
      "Total Rows : 188340 \n",
      "--------------------\n",
      "\n",
      "Total Columns : 10 \n",
      "--------------------\n",
      "\n",
      "Column Names\n",
      "--------------------\n",
      "Index(['ID', 'Store_id', 'Store_Type', 'Location_Type', 'Region_Code', 'Date',\n",
      "       'Holiday', 'Discount', '#Order', 'Sales'],\n",
      "      dtype='object') \n",
      " \n",
      "\n",
      "Data Summary\n",
      "--------------------\n",
      "<class 'pandas.core.frame.DataFrame'>\n",
      "RangeIndex: 188340 entries, 0 to 188339\n",
      "Data columns (total 10 columns):\n",
      " #   Column         Non-Null Count   Dtype  \n",
      "---  ------         --------------   -----  \n",
      " 0   ID             188340 non-null  object \n",
      " 1   Store_id       188340 non-null  int64  \n",
      " 2   Store_Type     188340 non-null  object \n",
      " 3   Location_Type  188340 non-null  object \n",
      " 4   Region_Code    188340 non-null  object \n",
      " 5   Date           188340 non-null  object \n",
      " 6   Holiday        188340 non-null  int64  \n",
      " 7   Discount       188340 non-null  object \n",
      " 8   #Order         188340 non-null  int64  \n",
      " 9   Sales          188340 non-null  float64\n",
      "dtypes: float64(1), int64(3), object(6)\n",
      "memory usage: 14.4+ MB\n",
      "\n",
      "Null values\n",
      "--------------------\n",
      "ID               0\n",
      "Store_id         0\n",
      "Store_Type       0\n",
      "Location_Type    0\n",
      "Region_Code      0\n",
      "Date             0\n",
      "Holiday          0\n",
      "Discount         0\n",
      "#Order           0\n",
      "Sales            0\n",
      "dtype: int64 \n",
      " \n",
      "\n",
      "\n",
      "Descriptive Statistics\n",
      "--------------------\n",
      "            Store_id        Holiday         #Order          Sales\n",
      "count  188340.000000  188340.000000  188340.000000  188340.000000\n",
      "mean      183.000000       0.131783      68.205692   42784.327982\n",
      "std       105.366308       0.338256      30.467415   18456.708302\n",
      "min         1.000000       0.000000       0.000000       0.000000\n",
      "25%        92.000000       0.000000      48.000000   30426.000000\n",
      "50%       183.000000       0.000000      63.000000   39678.000000\n",
      "75%       274.000000       0.000000      82.000000   51909.000000\n",
      "max       365.000000       1.000000     371.000000  247215.000000 \n",
      " \n",
      "\n"
     ]
    }
   ],
   "source": [
    "train_obj = DataInfo(df_train)\n",
    "\n",
    "train_obj.info()"
   ]
  },
  {
   "cell_type": "code",
   "execution_count": 8,
   "metadata": {},
   "outputs": [
    {
     "name": "stdout",
     "output_type": "stream",
     "text": [
      "Unique Values\n",
      "--------------------\n",
      "ID               188340\n",
      "Store_id            365\n",
      "Store_Type            4\n",
      "Location_Type         5\n",
      "Region_Code           4\n",
      "Date                516\n",
      "Holiday               2\n",
      "Discount              2\n",
      "#Order              299\n",
      "Sales             47422\n",
      "dtype: int64 \n",
      " \n",
      "\n",
      "ID -- ['T1081944', 'T1175192', 'T1105720', 'T1016173', 'T1109124', 'T1043548', 'T1034422', 'T1037734', 'T1096355', 'T1112015', 'T1010051', 'T1136579', 'T1162296', 'T1036897', 'T1056733', 'T1037475', 'T1108840', 'T1065129', 'T1157367', 'T1175527', 'T1151752', 'T1181600', 'T1030020', 'T1025915', 'T1075492', 'T1148271', 'T1053650', 'T1121043', 'T1164304', 'T1168292', 'T1136454', 'T1062135', 'T1054831', 'T1152188', 'T1007929', 'T1139556', 'T1070856', 'T1024800', 'T1004570', 'T1117323', 'T1151676', 'T1095910', 'T1162448', 'T1072475', 'T1044537', 'T1130609', 'T1140507', 'T1014385', 'T1137114', 'T1138990']\n",
      "\n",
      "\n",
      "Store_Type -- {'S2', 'S3', 'S1', 'S4'}\n",
      "\n",
      "\n",
      "Location_Type -- {'L1', 'L3', 'L4', 'L2', 'L5'}\n",
      "\n",
      "\n",
      "Region_Code -- {'R1', 'R4', 'R2', 'R3'}\n",
      "\n",
      "Date -- ['2019-03-29', '2019-03-10', '2018-01-29', '2018-11-25', '2019-03-03', '2019-03-12', '2018-10-10', '2018-11-16', '2019-02-18', '2019-03-02', '2019-01-02', '2019-03-17', '2018-07-16', '2018-10-02', '2018-03-11', '2018-07-13', '2019-05-02', '2018-11-27', '2018-12-28', '2019-04-11', '2019-02-04', '2018-12-15', '2018-08-08', '2018-07-10', '2018-11-23', '2019-01-29', '2019-02-13', '2018-12-14', '2018-12-17', '2018-06-19', '2018-02-02', '2018-05-07', '2018-04-02', '2018-12-20', '2018-06-18', '2019-03-15', '2019-01-23', '2018-12-08', '2018-01-26', '2018-05-12', '2018-08-30', '2018-01-11', '2018-05-26', '2018-08-05', '2018-09-27', '2018-02-18', '2019-02-26', '2019-03-01', '2018-02-08', '2018-09-19']\n",
      "\n",
      "\n",
      "Discount -- {'No', 'Yes'}\n",
      "\n"
     ]
    }
   ],
   "source": [
    "train_obj.uniqueCategory()"
   ]
  },
  {
   "cell_type": "markdown",
   "metadata": {},
   "source": [
    "## Exploratory Data Analysis"
   ]
  },
  {
   "cell_type": "code",
   "execution_count": 9,
   "metadata": {},
   "outputs": [
    {
     "data": {
      "text/plain": [
       "<seaborn.axisgrid.FacetGrid at 0x7fe80fe3f550>"
      ]
     },
     "execution_count": 9,
     "metadata": {},
     "output_type": "execute_result"
    },
    {
     "data": {
      "image/png": "[encoded data removed]",
      "text/plain": [
       "<Figure size 360x360 with 1 Axes>"
      ]
     },
     "metadata": {
      "needs_background": "light"
     },
     "output_type": "display_data"
    }
   ],
   "source": [
    "sns.catplot(x=df_train['Discount'] ,y= df_train['Sales'], data = df_train ,kind = 'bar')"
   ]
  },
  {
   "cell_type": "code",
   "execution_count": 10,
   "metadata": {},
   "outputs": [
    {
     "data": {
      "text/plain": [
       "<seaborn.axisgrid.FacetGrid at 0x7fe80fe3f5e0>"
      ]
     },
     "execution_count": 10,
     "metadata": {},
     "output_type": "execute_result"
    },
    {
     "data": {
      "image/png": "[encoded data removed]",
      "text/plain": [
       "<Figure size 360x360 with 1 Axes>"
      ]
     },
     "metadata": {
      "needs_background": "light"
     },
     "output_type": "display_data"
    }
   ],
   "source": [
    "#Checking sales outcome w.r.t region\n",
    "sns.catplot(x=df_train['Region_Code'],y=df_train['Sales'],data = df_train , kind = 'bar')"
   ]
  },
  {
   "cell_type": "code",
   "execution_count": 11,
   "metadata": {},
   "outputs": [
    {
     "data": {
      "text/plain": [
       "<seaborn.axisgrid.FacetGrid at 0x7fe813fab640>"
      ]
     },
     "execution_count": 11,
     "metadata": {},
     "output_type": "execute_result"
    },
    {
     "data": {
      "image/png": "[encoded data removed]",
      "text/plain": [
       "<Figure size 360x360 with 1 Axes>"
      ]
     },
     "metadata": {
      "needs_background": "light"
     },
     "output_type": "display_data"
    }
   ],
   "source": [
    "# sales outcome by location type w.r.t region\n",
    "sns.catplot(x=df_train['Store_Type'],y=df_train['Sales'],kind = 'bar',data = df_train)"
   ]
  },
  {
   "cell_type": "code",
   "execution_count": 12,
   "metadata": {},
   "outputs": [
    {
     "data": {
      "text/plain": [
       "<seaborn.axisgrid.FacetGrid at 0x7fe8170ba4c0>"
      ]
     },
     "execution_count": 12,
     "metadata": {},
     "output_type": "execute_result"
    },
    {
     "data": {
      "image/png": "[encoded data removed]",
      "text/plain": [
       "<Figure size 360x360 with 1 Axes>"
      ]
     },
     "metadata": {
      "needs_background": "light"
     },
     "output_type": "display_data"
    }
   ],
   "source": [
    "sns.catplot(x=df_train['Location_Type'],y=df_train['Sales'],kind = 'bar',data = df_train)"
   ]
  },
  {
   "cell_type": "code",
   "execution_count": 13,
   "metadata": {},
   "outputs": [
    {
     "data": {
      "text/plain": [
       "<seaborn.axisgrid.FacetGrid at 0x7fe8140f7fd0>"
      ]
     },
     "execution_count": 13,
     "metadata": {},
     "output_type": "execute_result"
    },
    {
     "data": {
      "image/png": "[encoded data removed]",
      "text/plain": [
       "<Figure size 360x360 with 1 Axes>"
      ]
     },
     "metadata": {
      "needs_background": "light"
     },
     "output_type": "display_data"
    }
   ],
   "source": [
    "#Checking outliers w.r.t store type \n",
    "sns.catplot(x=df_train['Store_Type'],y=df_train['Sales'],kind ='box',data = df_train)"
   ]
  },
  {
   "cell_type": "code",
   "execution_count": 14,
   "metadata": {},
   "outputs": [
    {
     "data": {
      "text/plain": [
       "<seaborn.axisgrid.FacetGrid at 0x7fe816aaad90>"
      ]
     },
     "execution_count": 14,
     "metadata": {},
     "output_type": "execute_result"
    },
    {
     "data": {
      "image/png": "[encoded data removed]",
      "text/plain": [
       "<Figure size 360x360 with 1 Axes>"
      ]
     },
     "metadata": {
      "needs_background": "light"
     },
     "output_type": "display_data"
    }
   ],
   "source": [
    "sns.displot(df_train['Sales'])"
   ]
  },
  {
   "cell_type": "markdown",
   "metadata": {},
   "source": [
    "## Feature Engineering and Transformation"
   ]
  },
  {
   "cell_type": "code",
   "execution_count": 15,
   "metadata": {},
   "outputs": [],
   "source": [
    "class Transformation:\n",
    "    def __init__(self , df):\n",
    "        \n",
    "        self.df = df\n",
    "\n",
    "    def transformation(self):\n",
    "        \n",
    "        #One hot encoding in columns\n",
    "        self.df = pd.get_dummies(self.df ,columns=['Store_Type','Location_Type','Discount'])\n",
    "\n",
    "        #Encoding Region codes\n",
    "        reg_encode= LabelEncoder()\n",
    "        self.df['Region_Code'] = reg_encode.fit_transform(self.df['Region_Code'])\n",
    "\n",
    "        #Converting date column into datetime object\n",
    "        self.df['Date'] = pd.to_datetime(self.df['Date'])\n",
    "\n",
    "        # Extracting month from date \n",
    "        self.df['Month'] = self.df['Date'].dt.month\n",
    "\n",
    "        # #Extracting days from date \n",
    "        self.df['sale_weekdays'] = self.df['Date'].dt.dayofweek\n",
    "\n",
    "        #sale on weekend and week day apart\n",
    "        self.df['sale_week'] = self.df['sale_weekdays'].apply(lambda x : 1 if x >=5 else 0 )\n",
    "        \n",
    "        # Dropping unnecessary columns\n",
    "        self.df.drop(['ID','Date'\t,'sale_weekdays'] ,axis = 1 ,inplace = True)\n",
    "        \n",
    "        return self.df\n"
   ]
  },
  {
   "cell_type": "code",
   "execution_count": 16,
   "metadata": {},
   "outputs": [
    {
     "data": {
      "text/html": [
       "<div>\n",
       "<style scoped>\n",
       "    .dataframe tbody tr th:only-of-type {\n",
       "        vertical-align: middle;\n",
       "    }\n",
       "\n",
       "    .dataframe tbody tr th {\n",
       "        vertical-align: top;\n",
       "    }\n",
       "\n",
       "    .dataframe thead th {\n",
       "        text-align: right;\n",
       "    }\n",
       "</style>\n",
       "<table border=\"1\" class=\"dataframe\">\n",
       "  <thead>\n",
       "    <tr style=\"text-align: right;\">\n",
       "      <th></th>\n",
       "      <th>Store_id</th>\n",
       "      <th>Region_Code</th>\n",
       "      <th>Holiday</th>\n",
       "      <th>#Order</th>\n",
       "      <th>Sales</th>\n",
       "      <th>Store_Type_S1</th>\n",
       "      <th>Store_Type_S2</th>\n",
       "      <th>Store_Type_S3</th>\n",
       "      <th>Store_Type_S4</th>\n",
       "      <th>Location_Type_L1</th>\n",
       "      <th>Location_Type_L2</th>\n",
       "      <th>Location_Type_L3</th>\n",
       "      <th>Location_Type_L4</th>\n",
       "      <th>Location_Type_L5</th>\n",
       "      <th>Discount_No</th>\n",
       "      <th>Discount_Yes</th>\n",
       "      <th>Month</th>\n",
       "      <th>sale_week</th>\n",
       "    </tr>\n",
       "  </thead>\n",
       "  <tbody>\n",
       "    <tr>\n",
       "      <th>0</th>\n",
       "      <td>1</td>\n",
       "      <td>0</td>\n",
       "      <td>1</td>\n",
       "      <td>9</td>\n",
       "      <td>7011.84</td>\n",
       "      <td>1</td>\n",
       "      <td>0</td>\n",
       "      <td>0</td>\n",
       "      <td>0</td>\n",
       "      <td>0</td>\n",
       "      <td>0</td>\n",
       "      <td>1</td>\n",
       "      <td>0</td>\n",
       "      <td>0</td>\n",
       "      <td>0</td>\n",
       "      <td>1</td>\n",
       "      <td>1</td>\n",
       "      <td>0</td>\n",
       "    </tr>\n",
       "    <tr>\n",
       "      <th>1</th>\n",
       "      <td>253</td>\n",
       "      <td>0</td>\n",
       "      <td>1</td>\n",
       "      <td>60</td>\n",
       "      <td>51789.12</td>\n",
       "      <td>0</td>\n",
       "      <td>0</td>\n",
       "      <td>0</td>\n",
       "      <td>1</td>\n",
       "      <td>0</td>\n",
       "      <td>1</td>\n",
       "      <td>0</td>\n",
       "      <td>0</td>\n",
       "      <td>0</td>\n",
       "      <td>0</td>\n",
       "      <td>1</td>\n",
       "      <td>1</td>\n",
       "      <td>0</td>\n",
       "    </tr>\n",
       "    <tr>\n",
       "      <th>2</th>\n",
       "      <td>252</td>\n",
       "      <td>0</td>\n",
       "      <td>1</td>\n",
       "      <td>42</td>\n",
       "      <td>36868.20</td>\n",
       "      <td>0</td>\n",
       "      <td>0</td>\n",
       "      <td>1</td>\n",
       "      <td>0</td>\n",
       "      <td>0</td>\n",
       "      <td>1</td>\n",
       "      <td>0</td>\n",
       "      <td>0</td>\n",
       "      <td>0</td>\n",
       "      <td>0</td>\n",
       "      <td>1</td>\n",
       "      <td>1</td>\n",
       "      <td>0</td>\n",
       "    </tr>\n",
       "  </tbody>\n",
       "</table>\n",
       "</div>"
      ],
      "text/plain": [
       "   Store_id  Region_Code  Holiday  #Order     Sales  Store_Type_S1  \\\n",
       "0         1            0        1       9   7011.84              1   \n",
       "1       253            0        1      60  51789.12              0   \n",
       "2       252            0        1      42  36868.20              0   \n",
       "\n",
       "   Store_Type_S2  Store_Type_S3  Store_Type_S4  Location_Type_L1  \\\n",
       "0              0              0              0                 0   \n",
       "1              0              0              1                 0   \n",
       "2              0              1              0                 0   \n",
       "\n",
       "   Location_Type_L2  Location_Type_L3  Location_Type_L4  Location_Type_L5  \\\n",
       "0                 0                 1                 0                 0   \n",
       "1                 1                 0                 0                 0   \n",
       "2                 1                 0                 0                 0   \n",
       "\n",
       "   Discount_No  Discount_Yes  Month  sale_week  \n",
       "0            0             1      1          0  \n",
       "1            0             1      1          0  \n",
       "2            0             1      1          0  "
      ]
     },
     "execution_count": 16,
     "metadata": {},
     "output_type": "execute_result"
    }
   ],
   "source": [
    "# trainning dataset after transformation\n",
    "\n",
    "train_trans = Transformation(df_train)\n",
    "train =train_trans.transformation()\n",
    "train.head(3)"
   ]
  },
  {
   "cell_type": "code",
   "execution_count": 17,
   "metadata": {},
   "outputs": [
    {
     "name": "stdout",
     "output_type": "stream",
     "text": [
      "Old Shape:  (188340, 18)\n",
      "New Shape:  (182497, 18)\n"
     ]
    }
   ],
   "source": [
    "# IQR\n",
    "Q1 = np.percentile(train['Sales'], 25,\n",
    "                   interpolation = 'midpoint')\n",
    " \n",
    "Q3 = np.percentile(train['Sales'], 75,\n",
    "                   interpolation = 'midpoint')\n",
    "IQR = Q3 - Q1\n",
    " \n",
    "print(\"Old Shape: \", train.shape)\n",
    " \n",
    "# Upper bound\n",
    "upper = np.where(train['Sales'] >= (Q3+1.5*IQR))\n",
    "# Lower bound\n",
    "lower = np.where(train['Sales'] <= (Q1-1.5*IQR))\n",
    " \n",
    "''' Removing the Outliers '''\n",
    "train.drop(upper[0] ,inplace = True)\n",
    "train.drop(lower[0],inplace = True )\n",
    " \n",
    "print(\"New Shape: \", train.shape)"
   ]
  },
  {
   "cell_type": "markdown",
   "metadata": {},
   "source": [
    "## Exploration after transformation"
   ]
  },
  {
   "cell_type": "code",
   "execution_count": 18,
   "metadata": {},
   "outputs": [
    {
     "data": {
      "text/plain": [
       "<seaborn.axisgrid.FacetGrid at 0x7fe81755abe0>"
      ]
     },
     "execution_count": 18,
     "metadata": {},
     "output_type": "execute_result"
    },
    {
     "data": {
      "image/png": "[encoded data removed]",
      "text/plain": [
       "<Figure size 360x360 with 1 Axes>"
      ]
     },
     "metadata": {
      "needs_background": "light"
     },
     "output_type": "display_data"
    }
   ],
   "source": [
    "#Sale on weekdays vs weekend\n",
    "sns.catplot(x=train['sale_week'],y=train['Sales'],kind = 'bar',data = train)"
   ]
  },
  {
   "cell_type": "code",
   "execution_count": 19,
   "metadata": {},
   "outputs": [
    {
     "data": {
      "text/plain": [
       "<seaborn.axisgrid.FacetGrid at 0x7fe8141fa790>"
      ]
     },
     "execution_count": 19,
     "metadata": {},
     "output_type": "execute_result"
    },
    {
     "data": {
      "image/png": "[encoded data removed]",
      "text/plain": [
       "<Figure size 360x360 with 1 Axes>"
      ]
     },
     "metadata": {
      "needs_background": "light"
     },
     "output_type": "display_data"
    }
   ],
   "source": [
    "# Months vs sale visualisation\n",
    "sns.catplot(x=train['Month'],y=train['Sales'],kind = 'bar',data = train)"
   ]
  },
  {
   "cell_type": "code",
   "execution_count": 20,
   "metadata": {},
   "outputs": [
    {
     "data": {
      "text/plain": [
       "19"
      ]
     },
     "execution_count": 20,
     "metadata": {},
     "output_type": "execute_result"
    }
   ],
   "source": [
    "#checking is there any rows which has no sales \n",
    "zero_sales = train[train['Sales']<=0].index\n",
    "len(zero_sales)"
   ]
  },
  {
   "cell_type": "code",
   "execution_count": 21,
   "metadata": {},
   "outputs": [],
   "source": [
    "train.drop(zero_sales,inplace= True)"
   ]
  },
  {
   "cell_type": "code",
   "execution_count": 22,
   "metadata": {},
   "outputs": [],
   "source": [
    "#moving sales column to the last position\n",
    "move_train = train.pop('Sales')\n",
    "train.insert(len(train.columns),'Sales' ,move_train)"
   ]
  },
  {
   "cell_type": "code",
   "execution_count": 23,
   "metadata": {},
   "outputs": [
    {
     "data": {
      "text/html": [
       "<div>\n",
       "<style scoped>\n",
       "    .dataframe tbody tr th:only-of-type {\n",
       "        vertical-align: middle;\n",
       "    }\n",
       "\n",
       "    .dataframe tbody tr th {\n",
       "        vertical-align: top;\n",
       "    }\n",
       "\n",
       "    .dataframe thead th {\n",
       "        text-align: right;\n",
       "    }\n",
       "</style>\n",
       "<table border=\"1\" class=\"dataframe\">\n",
       "  <thead>\n",
       "    <tr style=\"text-align: right;\">\n",
       "      <th></th>\n",
       "      <th>Store_id</th>\n",
       "      <th>Region_Code</th>\n",
       "      <th>Holiday</th>\n",
       "      <th>#Order</th>\n",
       "      <th>Store_Type_S1</th>\n",
       "      <th>Store_Type_S2</th>\n",
       "      <th>Store_Type_S3</th>\n",
       "      <th>Store_Type_S4</th>\n",
       "      <th>Location_Type_L1</th>\n",
       "      <th>Location_Type_L2</th>\n",
       "      <th>Location_Type_L3</th>\n",
       "      <th>Location_Type_L4</th>\n",
       "      <th>Location_Type_L5</th>\n",
       "      <th>Discount_No</th>\n",
       "      <th>Discount_Yes</th>\n",
       "      <th>Month</th>\n",
       "      <th>sale_week</th>\n",
       "      <th>Sales</th>\n",
       "    </tr>\n",
       "  </thead>\n",
       "  <tbody>\n",
       "    <tr>\n",
       "      <th>0</th>\n",
       "      <td>1</td>\n",
       "      <td>0</td>\n",
       "      <td>1</td>\n",
       "      <td>9</td>\n",
       "      <td>1</td>\n",
       "      <td>0</td>\n",
       "      <td>0</td>\n",
       "      <td>0</td>\n",
       "      <td>0</td>\n",
       "      <td>0</td>\n",
       "      <td>1</td>\n",
       "      <td>0</td>\n",
       "      <td>0</td>\n",
       "      <td>0</td>\n",
       "      <td>1</td>\n",
       "      <td>1</td>\n",
       "      <td>0</td>\n",
       "      <td>7011.84</td>\n",
       "    </tr>\n",
       "    <tr>\n",
       "      <th>1</th>\n",
       "      <td>253</td>\n",
       "      <td>0</td>\n",
       "      <td>1</td>\n",
       "      <td>60</td>\n",
       "      <td>0</td>\n",
       "      <td>0</td>\n",
       "      <td>0</td>\n",
       "      <td>1</td>\n",
       "      <td>0</td>\n",
       "      <td>1</td>\n",
       "      <td>0</td>\n",
       "      <td>0</td>\n",
       "      <td>0</td>\n",
       "      <td>0</td>\n",
       "      <td>1</td>\n",
       "      <td>1</td>\n",
       "      <td>0</td>\n",
       "      <td>51789.12</td>\n",
       "    </tr>\n",
       "    <tr>\n",
       "      <th>2</th>\n",
       "      <td>252</td>\n",
       "      <td>0</td>\n",
       "      <td>1</td>\n",
       "      <td>42</td>\n",
       "      <td>0</td>\n",
       "      <td>0</td>\n",
       "      <td>1</td>\n",
       "      <td>0</td>\n",
       "      <td>0</td>\n",
       "      <td>1</td>\n",
       "      <td>0</td>\n",
       "      <td>0</td>\n",
       "      <td>0</td>\n",
       "      <td>0</td>\n",
       "      <td>1</td>\n",
       "      <td>1</td>\n",
       "      <td>0</td>\n",
       "      <td>36868.20</td>\n",
       "    </tr>\n",
       "  </tbody>\n",
       "</table>\n",
       "</div>"
      ],
      "text/plain": [
       "   Store_id  Region_Code  Holiday  #Order  Store_Type_S1  Store_Type_S2  \\\n",
       "0         1            0        1       9              1              0   \n",
       "1       253            0        1      60              0              0   \n",
       "2       252            0        1      42              0              0   \n",
       "\n",
       "   Store_Type_S3  Store_Type_S4  Location_Type_L1  Location_Type_L2  \\\n",
       "0              0              0                 0                 0   \n",
       "1              0              1                 0                 1   \n",
       "2              1              0                 0                 1   \n",
       "\n",
       "   Location_Type_L3  Location_Type_L4  Location_Type_L5  Discount_No  \\\n",
       "0                 1                 0                 0            0   \n",
       "1                 0                 0                 0            0   \n",
       "2                 0                 0                 0            0   \n",
       "\n",
       "   Discount_Yes  Month  sale_week     Sales  \n",
       "0             1      1          0   7011.84  \n",
       "1             1      1          0  51789.12  \n",
       "2             1      1          0  36868.20  "
      ]
     },
     "execution_count": 23,
     "metadata": {},
     "output_type": "execute_result"
    }
   ],
   "source": [
    "train.head(3)"
   ]
  },
  {
   "cell_type": "markdown",
   "metadata": {},
   "source": [
    "# Test Data Preprocessing"
   ]
  },
  {
   "cell_type": "code",
   "execution_count": 24,
   "metadata": {},
   "outputs": [
    {
     "name": "stdout",
     "output_type": "stream",
     "text": [
      "\n",
      "Total Rows : 22265 \n",
      "----------------------------------------\n",
      "\n",
      "Total Columns : 8 \n",
      "\n",
      "            Column Names       \n",
      "----------------------------------------\n",
      "Index(['ID', 'Store_id', 'Store_Type', 'Location_Type', 'Region_Code', 'Date',\n",
      "       'Holiday', 'Discount'],\n",
      "      dtype='object') \n",
      " \n",
      "\n",
      "           Data Summary         \n",
      "----------------------------------------\n",
      "<class 'pandas.core.frame.DataFrame'>\n",
      "RangeIndex: 22265 entries, 0 to 22264\n",
      "Data columns (total 8 columns):\n",
      " #   Column         Non-Null Count  Dtype \n",
      "---  ------         --------------  ----- \n",
      " 0   ID             22265 non-null  object\n",
      " 1   Store_id       22265 non-null  int64 \n",
      " 2   Store_Type     22265 non-null  object\n",
      " 3   Location_Type  22265 non-null  object\n",
      " 4   Region_Code    22265 non-null  object\n",
      " 5   Date           22265 non-null  object\n",
      " 6   Holiday        22265 non-null  int64 \n",
      " 7   Discount       22265 non-null  object\n",
      "dtypes: int64(2), object(6)\n",
      "memory usage: 1.4+ MB\n",
      "\n",
      "            Null values           \n",
      "----------------------------------------\n",
      "ID               0\n",
      "Store_id         0\n",
      "Store_Type       0\n",
      "Location_Type    0\n",
      "Region_Code      0\n",
      "Date             0\n",
      "Holiday          0\n",
      "Discount         0\n",
      "dtype: int64 \n",
      " \n",
      "\n"
     ]
    }
   ],
   "source": [
    "#Descriptive Information for test data\n",
    "\n",
    "test_obj = DataInfo(df_test)\n",
    "test_obj.info()"
   ]
  },
  {
   "cell_type": "code",
   "execution_count": 25,
   "metadata": {},
   "outputs": [
    {
     "name": "stdout",
     "output_type": "stream",
     "text": [
      "            Unique Values       \n",
      "----------------------------------------\n",
      "ID               22265\n",
      "Store_id           365\n",
      "Store_Type           4\n",
      "Location_Type        5\n",
      "Region_Code          4\n",
      "Date                61\n",
      "Holiday              2\n",
      "Discount             2\n",
      "dtype: int64 \n",
      " \n",
      "\n",
      "ID -- ['T1203411', 'T1198584', 'T1199419', 'T1188582', 'T1200821', 'T1197488', 'T1209628', 'T1196170', 'T1189638', 'T1190115', 'T1205437', 'T1188802', 'T1189399', 'T1206844', 'T1204915', 'T1196108', 'T1203686', 'T1199773', 'T1196143', 'T1198733']\n",
      "\n",
      "\n",
      "Store_Type -- {'S1', 'S4', 'S2', 'S3'}\n",
      "\n",
      "\n",
      "Location_Type -- {'L4', 'L5', 'L3', 'L2', 'L1'}\n",
      "\n",
      "\n",
      "Region_Code -- {'R2', 'R4', 'R1', 'R3'}\n",
      "\n",
      "\n",
      "Date -- {'2019-06-16', '2019-07-23', '2019-07-04', '2019-07-03', '2019-06-14', '2019-06-20', '2019-06-09', '2019-06-26', '2019-07-12', '2019-06-07', '2019-07-07', '2019-06-30', '2019-07-09', '2019-06-02', '2019-06-19', '2019-06-18', '2019-07-01', '2019-06-24', '2019-06-11', '2019-06-12', '2019-07-21', '2019-06-21', '2019-07-25', '2019-06-29', '2019-07-27', '2019-07-29', '2019-06-04', '2019-07-06', '2019-06-23', '2019-07-18', '2019-06-08', '2019-07-16', '2019-06-27', '2019-07-24', '2019-06-25', '2019-07-10', '2019-06-28', '2019-06-01', '2019-06-22', '2019-07-02', '2019-06-13', '2019-07-05', '2019-07-20', '2019-07-15', '2019-07-26', '2019-06-05', '2019-07-22', '2019-07-28', '2019-07-17', '2019-07-14', '2019-07-30', '2019-07-31', '2019-07-13', '2019-06-17', '2019-06-03', '2019-06-10', '2019-07-08', '2019-07-19', '2019-06-15', '2019-07-11', '2019-06-06'}\n",
      "\n",
      "\n",
      "Discount -- {'Yes', 'No'}\n",
      "\n"
     ]
    }
   ],
   "source": [
    "#Unique categories and it's count in test data\n",
    "\n",
    "test_obj.uniqueCategory()"
   ]
  },
  {
   "cell_type": "code",
   "execution_count": 26,
   "metadata": {},
   "outputs": [
    {
     "data": {
      "text/html": [
       "<div>\n",
       "<style scoped>\n",
       "    .dataframe tbody tr th:only-of-type {\n",
       "        vertical-align: middle;\n",
       "    }\n",
       "\n",
       "    .dataframe tbody tr th {\n",
       "        vertical-align: top;\n",
       "    }\n",
       "\n",
       "    .dataframe thead th {\n",
       "        text-align: right;\n",
       "    }\n",
       "</style>\n",
       "<table border=\"1\" class=\"dataframe\">\n",
       "  <thead>\n",
       "    <tr style=\"text-align: right;\">\n",
       "      <th></th>\n",
       "      <th>Store_id</th>\n",
       "      <th>Region_Code</th>\n",
       "      <th>Holiday</th>\n",
       "      <th>Store_Type_S1</th>\n",
       "      <th>Store_Type_S2</th>\n",
       "      <th>Store_Type_S3</th>\n",
       "      <th>Store_Type_S4</th>\n",
       "      <th>Location_Type_L1</th>\n",
       "      <th>Location_Type_L2</th>\n",
       "      <th>Location_Type_L3</th>\n",
       "      <th>Location_Type_L4</th>\n",
       "      <th>Location_Type_L5</th>\n",
       "      <th>Discount_No</th>\n",
       "      <th>Discount_Yes</th>\n",
       "      <th>Month</th>\n",
       "      <th>sale_week</th>\n",
       "    </tr>\n",
       "  </thead>\n",
       "  <tbody>\n",
       "    <tr>\n",
       "      <th>0</th>\n",
       "      <td>171</td>\n",
       "      <td>2</td>\n",
       "      <td>0</td>\n",
       "      <td>0</td>\n",
       "      <td>0</td>\n",
       "      <td>0</td>\n",
       "      <td>1</td>\n",
       "      <td>0</td>\n",
       "      <td>1</td>\n",
       "      <td>0</td>\n",
       "      <td>0</td>\n",
       "      <td>0</td>\n",
       "      <td>1</td>\n",
       "      <td>0</td>\n",
       "      <td>6</td>\n",
       "      <td>1</td>\n",
       "    </tr>\n",
       "    <tr>\n",
       "      <th>1</th>\n",
       "      <td>172</td>\n",
       "      <td>0</td>\n",
       "      <td>0</td>\n",
       "      <td>1</td>\n",
       "      <td>0</td>\n",
       "      <td>0</td>\n",
       "      <td>0</td>\n",
       "      <td>1</td>\n",
       "      <td>0</td>\n",
       "      <td>0</td>\n",
       "      <td>0</td>\n",
       "      <td>0</td>\n",
       "      <td>1</td>\n",
       "      <td>0</td>\n",
       "      <td>6</td>\n",
       "      <td>1</td>\n",
       "    </tr>\n",
       "    <tr>\n",
       "      <th>2</th>\n",
       "      <td>173</td>\n",
       "      <td>0</td>\n",
       "      <td>0</td>\n",
       "      <td>0</td>\n",
       "      <td>0</td>\n",
       "      <td>0</td>\n",
       "      <td>1</td>\n",
       "      <td>0</td>\n",
       "      <td>1</td>\n",
       "      <td>0</td>\n",
       "      <td>0</td>\n",
       "      <td>0</td>\n",
       "      <td>1</td>\n",
       "      <td>0</td>\n",
       "      <td>6</td>\n",
       "      <td>1</td>\n",
       "    </tr>\n",
       "  </tbody>\n",
       "</table>\n",
       "</div>"
      ],
      "text/plain": [
       "   Store_id  Region_Code  Holiday  Store_Type_S1  Store_Type_S2  \\\n",
       "0       171            2        0              0              0   \n",
       "1       172            0        0              1              0   \n",
       "2       173            0        0              0              0   \n",
       "\n",
       "   Store_Type_S3  Store_Type_S4  Location_Type_L1  Location_Type_L2  \\\n",
       "0              0              1                 0                 1   \n",
       "1              0              0                 1                 0   \n",
       "2              0              1                 0                 1   \n",
       "\n",
       "   Location_Type_L3  Location_Type_L4  Location_Type_L5  Discount_No  \\\n",
       "0                 0                 0                 0            1   \n",
       "1                 0                 0                 0            1   \n",
       "2                 0                 0                 0            1   \n",
       "\n",
       "   Discount_Yes  Month  sale_week  \n",
       "0             0      6          1  \n",
       "1             0      6          1  \n",
       "2             0      6          1  "
      ]
     },
     "execution_count": 26,
     "metadata": {},
     "output_type": "execute_result"
    }
   ],
   "source": [
    "#Applying the same feature engineering in test data\n",
    "\n",
    "test_trans = Transformation(df_test)\n",
    "test = test_trans.transformation()\n",
    "test.head(3)"
   ]
  },
  {
   "cell_type": "markdown",
   "metadata": {},
   "source": [
    "# Finding order columns in test data by training the models "
   ]
  },
  {
   "cell_type": "code",
   "execution_count": 27,
   "metadata": {},
   "outputs": [
    {
     "data": {
      "text/plain": [
       "Index(['Store_id', 'Region_Code', 'Holiday', '#Order', 'Store_Type_S1',\n",
       "       'Store_Type_S2', 'Store_Type_S3', 'Store_Type_S4', 'Location_Type_L1',\n",
       "       'Location_Type_L2', 'Location_Type_L3', 'Location_Type_L4',\n",
       "       'Location_Type_L5', 'Discount_No', 'Discount_Yes', 'Month', 'sale_week',\n",
       "       'Sales'],\n",
       "      dtype='object')"
      ]
     },
     "execution_count": 27,
     "metadata": {},
     "output_type": "execute_result"
    }
   ],
   "source": [
    "train.columns"
   ]
  },
  {
   "cell_type": "code",
   "execution_count": 28,
   "metadata": {},
   "outputs": [],
   "source": [
    "#Selecting only those column which are present in training data\n",
    "columns = ['Store_id', 'Region_Code', 'Holiday', \n",
    "       'Store_Type_S1', 'Store_Type_S2', 'Store_Type_S3', 'Store_Type_S4',\n",
    "       'Location_Type_L1', 'Location_Type_L2', 'Location_Type_L3',\n",
    "       'Location_Type_L4', 'Location_Type_L5', 'Discount_No', 'Discount_Yes',\n",
    "       'Month', 'sale_week']\n",
    "\n",
    "        \n",
    "#Features columns for predicting order\n",
    "ord_train = train[columns]\n",
    "\n",
    "#Target columns for order\n",
    "ord_target = train['#Order']"
   ]
  },
  {
   "cell_type": "code",
   "execution_count": 29,
   "metadata": {},
   "outputs": [
    {
     "data": {
      "text/plain": [
       "LinearRegression()"
      ]
     },
     "execution_count": 29,
     "metadata": {},
     "output_type": "execute_result"
    }
   ],
   "source": [
    "#Initialising....\n",
    "reg = LinearRegression()\n",
    "\n",
    "#Fitting the model\n",
    "reg.fit(ord_train,ord_target)"
   ]
  },
  {
   "cell_type": "code",
   "execution_count": 30,
   "metadata": {},
   "outputs": [],
   "source": [
    "#Predicting order \n",
    "y_pred = reg.predict(test)\n",
    "\n",
    "#Converting it into integer as order cannot be float value \n",
    "y_pred = [int(i) for i in y_pred]\n",
    "\n",
    "#Merging into the test data ...\n",
    "test.insert(3,'#Order' ,y_pred)"
   ]
  },
  {
   "cell_type": "code",
   "execution_count": 31,
   "metadata": {},
   "outputs": [
    {
     "data": {
      "text/html": [
       "<div>\n",
       "<style scoped>\n",
       "    .dataframe tbody tr th:only-of-type {\n",
       "        vertical-align: middle;\n",
       "    }\n",
       "\n",
       "    .dataframe tbody tr th {\n",
       "        vertical-align: top;\n",
       "    }\n",
       "\n",
       "    .dataframe thead th {\n",
       "        text-align: right;\n",
       "    }\n",
       "</style>\n",
       "<table border=\"1\" class=\"dataframe\">\n",
       "  <thead>\n",
       "    <tr style=\"text-align: right;\">\n",
       "      <th></th>\n",
       "      <th>Store_id</th>\n",
       "      <th>Region_Code</th>\n",
       "      <th>Holiday</th>\n",
       "      <th>#Order</th>\n",
       "      <th>Store_Type_S1</th>\n",
       "      <th>Store_Type_S2</th>\n",
       "      <th>Store_Type_S3</th>\n",
       "      <th>Store_Type_S4</th>\n",
       "      <th>Location_Type_L1</th>\n",
       "      <th>Location_Type_L2</th>\n",
       "      <th>Location_Type_L3</th>\n",
       "      <th>Location_Type_L4</th>\n",
       "      <th>Location_Type_L5</th>\n",
       "      <th>Discount_No</th>\n",
       "      <th>Discount_Yes</th>\n",
       "      <th>Month</th>\n",
       "      <th>sale_week</th>\n",
       "    </tr>\n",
       "  </thead>\n",
       "  <tbody>\n",
       "    <tr>\n",
       "      <th>0</th>\n",
       "      <td>171</td>\n",
       "      <td>2</td>\n",
       "      <td>0</td>\n",
       "      <td>98</td>\n",
       "      <td>0</td>\n",
       "      <td>0</td>\n",
       "      <td>0</td>\n",
       "      <td>1</td>\n",
       "      <td>0</td>\n",
       "      <td>1</td>\n",
       "      <td>0</td>\n",
       "      <td>0</td>\n",
       "      <td>0</td>\n",
       "      <td>1</td>\n",
       "      <td>0</td>\n",
       "      <td>6</td>\n",
       "      <td>1</td>\n",
       "    </tr>\n",
       "    <tr>\n",
       "      <th>1</th>\n",
       "      <td>172</td>\n",
       "      <td>0</td>\n",
       "      <td>0</td>\n",
       "      <td>63</td>\n",
       "      <td>1</td>\n",
       "      <td>0</td>\n",
       "      <td>0</td>\n",
       "      <td>0</td>\n",
       "      <td>1</td>\n",
       "      <td>0</td>\n",
       "      <td>0</td>\n",
       "      <td>0</td>\n",
       "      <td>0</td>\n",
       "      <td>1</td>\n",
       "      <td>0</td>\n",
       "      <td>6</td>\n",
       "      <td>1</td>\n",
       "    </tr>\n",
       "    <tr>\n",
       "      <th>2</th>\n",
       "      <td>173</td>\n",
       "      <td>0</td>\n",
       "      <td>0</td>\n",
       "      <td>102</td>\n",
       "      <td>0</td>\n",
       "      <td>0</td>\n",
       "      <td>0</td>\n",
       "      <td>1</td>\n",
       "      <td>0</td>\n",
       "      <td>1</td>\n",
       "      <td>0</td>\n",
       "      <td>0</td>\n",
       "      <td>0</td>\n",
       "      <td>1</td>\n",
       "      <td>0</td>\n",
       "      <td>6</td>\n",
       "      <td>1</td>\n",
       "    </tr>\n",
       "  </tbody>\n",
       "</table>\n",
       "</div>"
      ],
      "text/plain": [
       "   Store_id  Region_Code  Holiday  #Order  Store_Type_S1  Store_Type_S2  \\\n",
       "0       171            2        0      98              0              0   \n",
       "1       172            0        0      63              1              0   \n",
       "2       173            0        0     102              0              0   \n",
       "\n",
       "   Store_Type_S3  Store_Type_S4  Location_Type_L1  Location_Type_L2  \\\n",
       "0              0              1                 0                 1   \n",
       "1              0              0                 1                 0   \n",
       "2              0              1                 0                 1   \n",
       "\n",
       "   Location_Type_L3  Location_Type_L4  Location_Type_L5  Discount_No  \\\n",
       "0                 0                 0                 0            1   \n",
       "1                 0                 0                 0            1   \n",
       "2                 0                 0                 0            1   \n",
       "\n",
       "   Discount_Yes  Month  sale_week  \n",
       "0             0      6          1  \n",
       "1             0      6          1  \n",
       "2             0      6          1  "
      ]
     },
     "execution_count": 31,
     "metadata": {},
     "output_type": "execute_result"
    }
   ],
   "source": [
    "test.head(3)"
   ]
  },
  {
   "cell_type": "markdown",
   "metadata": {},
   "source": [
    "# Training models and evaluating it's performance"
   ]
  },
  {
   "cell_type": "code",
   "execution_count": 32,
   "metadata": {},
   "outputs": [],
   "source": [
    "# Feature columns \n",
    "X = train.iloc[:,:-1]\n",
    "\n",
    "#Target\n",
    "y = train.loc[:,'Sales']"
   ]
  },
  {
   "cell_type": "code",
   "execution_count": 33,
   "metadata": {},
   "outputs": [],
   "source": [
    "# This 'test' dataframe is given your problem satement to get prediction \n",
    "    # train the model\n",
    "def salesPrediction(model,model_name , X, y ,test): \n",
    "    model.fit(X, y)\n",
    "    \n",
    "    # predict the training set\n",
    "    pred = model.predict(X)\n",
    "    \n",
    "    # perform cross-validation\n",
    "    folds = KFold(n_splits = 5, shuffle = True, random_state = 100)\n",
    "    cv_score = cross_val_score(model, X, y , scoring='r2', cv=folds)\n",
    "    cv_score = np.mean(cv_score)\n",
    "    \n",
    "    print(\"Model Performance Synapsis\")\n",
    "    print(\"CV Score:\", cv_score)\n",
    "    \n",
    "    \n",
    "    #Submission prediction ..\n",
    "    predict_submit = model.predict(test) \n",
    "    predict_submit= [int(i) for i in predict_submit]\n",
    "    submission = pd.read_csv('SAMPLE.csv')\n",
    "    submission[\"Sales\"] = predict_submit\n",
    "    submission.to_csv(f'sub_{model_name}.csv', index=False)"
   ]
  },
  {
   "cell_type": "code",
   "execution_count": 34,
   "metadata": {},
   "outputs": [
    {
     "name": "stdout",
     "output_type": "stream",
     "text": [
      "Model Performance Synapsis\n",
      "CV Score: 0.9112103547000234\n"
     ]
    }
   ],
   "source": [
    "# Linear Regression\n",
    "lm = LinearRegression(normalize=True)\n",
    "salesPrediction(lm,'Linear' ,X , y ,test)\n"
   ]
  },
  {
   "cell_type": "code",
   "execution_count": 35,
   "metadata": {},
   "outputs": [
    {
     "name": "stdout",
     "output_type": "stream",
     "text": [
      "Model Performance Synapsis\n",
      "CV Score: 0.9003587308220288\n"
     ]
    }
   ],
   "source": [
    "#Lasso regression\n",
    "laso_reg = Lasso(normalize=True)\n",
    "salesPrediction(laso_reg,'Laso' ,X , y ,test)"
   ]
  },
  {
   "cell_type": "code",
   "execution_count": 36,
   "metadata": {},
   "outputs": [
    {
     "name": "stdout",
     "output_type": "stream",
     "text": [
      "Model Performance Synapsis\n",
      "CV Score: 0.7484490441630463\n"
     ]
    }
   ],
   "source": [
    "# Ridge Regression\n",
    "rid_reg = Ridge(normalize=True)\n",
    "salesPrediction(rid_reg,'Ridge' ,X , y ,test)"
   ]
  },
  {
   "cell_type": "code",
   "execution_count": 37,
   "metadata": {},
   "outputs": [
    {
     "name": "stdout",
     "output_type": "stream",
     "text": [
      "Model Performance Synapsis\n",
      "CV Score: 0.957163682743151\n"
     ]
    }
   ],
   "source": [
    "# Random forest Regressor\n",
    "rfg = RandomForestRegressor()\n",
    "salesPrediction(rfg,'randForest' ,X , y ,test)"
   ]
  },
  {
   "cell_type": "code",
   "execution_count": null,
   "metadata": {},
   "outputs": [],
   "source": [
    "# Cat Boost Regressor\n",
    "cat_model = CatBoostRegressor(loss_function=\"RMSE\")\n",
    "salesPrediction(cat_model,'catBoost' ,X , y ,test)\n",
    "\n",
    "#Note* I have not uploaded the output because it will run on 1000 iteration \n",
    "# upon which output will messed up I will upload seperate file in repository \n",
    "\n",
    "#I have run on my local It has given following accuracy\n",
    "print('Model Performance Synapsis'\n",
    "print('CV Score: 0.9710018586838313')"
   ]
  },
  {
   "cell_type": "code",
   "execution_count": 39,
   "metadata": {},
   "outputs": [
    {
     "data": {
      "text/plain": [
       "Text(0.5, 1.0, 'features importance')"
      ]
     },
     "execution_count": 39,
     "metadata": {},
     "output_type": "execute_result"
    },
    {
     "data": {
      "image/png": "[encoded data removed]",
      "text/plain": [
       "<Figure size 864x432 with 1 Axes>"
      ]
     },
     "metadata": {
      "needs_background": "light"
     },
     "output_type": "display_data"
    }
   ],
   "source": [
    "# Create a dataframe of feature importance \n",
    "df_feature_importance = pd.DataFrame(cat_model.get_feature_importance(prettified=True))\n",
    "\n",
    "#plotting feature importance\n",
    "plt.figure(figsize=(12, 6))\n",
    "\n",
    "feature_plot= sns.barplot(x=\"Importances\", y=\"Feature Id\", data=df_feature_importance,palette=\"cool\")\n",
    "\n",
    "plt.title('features importance')"
   ]
  },
  {
   "cell_type": "code",
   "execution_count": null,
   "metadata": {},
   "outputs": [],
   "source": []
  }
 ],
 "metadata": {
  "kernelspec": {
   "display_name": "Python 3",
   "language": "python",
   "name": "python3"
  },
  "language_info": {
   "codemirror_mode": {
    "name": "ipython",
    "version": 3
   },
   "file_extension": ".py",
   "mimetype": "text/x-python",
   "name": "python",
   "nbconvert_exporter": "python",
   "pygments_lexer": "ipython3",
   "version": "3.8.3"
  }
 },
 "nbformat": 4,
 "nbformat_minor": 4
}
